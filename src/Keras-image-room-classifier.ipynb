{
 "cells": [
  {
   "cell_type": "markdown",
   "metadata": {},
   "source": [
    "### This notebook is based of: https://www.kaggle.com/abnera/transfer-learning-keras-xception-cnn"
   ]
  },
  {
   "cell_type": "code",
   "execution_count": 1,
   "metadata": {},
   "outputs": [
    {
     "name": "stderr",
     "output_type": "stream",
     "text": [
      "Using TensorFlow backend.\n"
     ]
    }
   ],
   "source": [
    "import numpy as np\n",
    "from keras.preprocessing.image import ImageDataGenerator, img_to_array, load_img\n",
    "from keras.layers import Input, Flatten, Dense, GlobalAveragePooling2D\n",
    "from keras.models import Model\n",
    "from keras.applications.xception import Xception, preprocess_input, decode_predictions"
   ]
  },
  {
   "cell_type": "code",
   "execution_count": 2,
   "metadata": {},
   "outputs": [],
   "source": [
    "def create_generators(train_data_dir, validation_data_dir):\n",
    "    # Read Data and Augment it: Make sure to select augmentations that are appropriate to your images.\n",
    "\n",
    "    transformation_ratio = .05  # how aggressive will be the data augmentation/transformation\n",
    "\n",
    "    train_datagen = ImageDataGenerator(rescale=1. / 255,\n",
    "                                       rotation_range=transformation_ratio,\n",
    "                                       shear_range=transformation_ratio,\n",
    "                                       zoom_range=transformation_ratio,\n",
    "                                       cval=transformation_ratio,\n",
    "                                       horizontal_flip=True,\n",
    "                                       vertical_flip=True)\n",
    "\n",
    "    train_generator = train_datagen.flow_from_directory(train_data_dir,\n",
    "                                                        target_size=(IMG_WIDTH, IMG_HEIGHT),\n",
    "                                                        batch_size=BATCH_SIZE,\n",
    "                                                        class_mode='categorical')\n",
    "\n",
    "    validation_datagen = ImageDataGenerator(rescale=1. / 255)\n",
    "    \n",
    "    validation_generator = validation_datagen.flow_from_directory(validation_data_dir,\n",
    "                                                                  target_size=(IMG_WIDTH, IMG_HEIGHT),\n",
    "                                                                  batch_size=BATCH_SIZE,\n",
    "                                                                  class_mode='categorical')\n",
    "    return train_generator, validation_generator\n",
    "\n",
    "\n",
    "def create_model(num_classes):\n",
    "        base_model = Xception(input_shape=(IMG_WIDTH, IMG_HEIGHT, 3), weights='imagenet', include_top=False)\n",
    "\n",
    "        # Top Model Block\n",
    "        x = base_model.output\n",
    "        x = GlobalAveragePooling2D()(x)\n",
    "        predictions = Dense(num_classes, activation='softmax')(x)\n",
    "\n",
    "        # add your top layer block to your base model\n",
    "        model = Model(base_model.input, predictions)\n",
    "        \n",
    "        for layer in model.layers[:-10]:\n",
    "            layer.trainable = False\n",
    "        \n",
    "        model.compile(optimizer='nadam',loss='categorical_crossentropy', metrics=['accuracy'])\n",
    "        return model\n",
    "\n",
    "\n",
    "def train(train_generator, validation_generator, model):\n",
    "    model.fit_generator(train_generator,\n",
    "                        epochs=1,\n",
    "                        validation_data=validation_generator,\n",
    "                        steps_per_epoch=3,\n",
    "                        validation_steps=2,\n",
    "                        verbose=1)\n",
    "\n",
    "# makes the prediction of the file path image passed as parameter \n",
    "def predict(file, model, to_class):\n",
    "    im = load_img(file, target_size=(IMG_WIDTH, IMG_HEIGHT))\n",
    "    x = img_to_array(im)\n",
    "    x = np.expand_dims(x, axis=0)\n",
    "    x = preprocess_input(x)\n",
    "    index = model.predict(x).argmax()\n",
    "    return to_class[index]"
   ]
  },
  {
   "cell_type": "code",
   "execution_count": 13,
   "metadata": {},
   "outputs": [],
   "source": [
    "DIR = \"./\"\n",
    "IMG_WIDTH, IMG_HEIGHT = 299, 299 # set this according to keras documentation, each model has its own size\n",
    "BATCH_SIZE = 200 # decrease this if your computer explodes"
   ]
  },
  {
   "cell_type": "code",
   "execution_count": 14,
   "metadata": {},
   "outputs": [
    {
     "name": "stdout",
     "output_type": "stream",
     "text": [
      "Found 1953 images belonging to 7 classes.\n",
      "Found 397 images belonging to 7 classes.\n"
     ]
    },
    {
     "data": {
      "text/plain": [
       "{0: 'bathroom',\n",
       " 1: 'bedroom',\n",
       " 2: 'exterior',\n",
       " 3: 'kitchen',\n",
       " 4: 'livingroom',\n",
       " 5: 'plane',\n",
       " 6: 'publicity'}"
      ]
     },
     "execution_count": 14,
     "metadata": {},
     "output_type": "execute_result"
    }
   ],
   "source": [
    "train_generator, validation_generator = create_generators(DIR + \"labelled\", DIR + \"validation\")\n",
    "\n",
    "total_classes = len(train_generator.class_indices) # necesary to build the last softmax layer\n",
    "to_class = {v:k for k,v in train_generator.class_indices.items()} # usefull when model returns prediction\n",
    "to_class"
   ]
  },
  {
   "cell_type": "code",
   "execution_count": 5,
   "metadata": {},
   "outputs": [],
   "source": [
    "m = create_model(total_classes)"
   ]
  },
  {
   "cell_type": "code",
   "execution_count": 6,
   "metadata": {},
   "outputs": [
    {
     "name": "stdout",
     "output_type": "stream",
     "text": [
      "Epoch 1/1\n",
      "3/3 [==============================] - 478s - loss: 1.1786 - acc: 0.5667 - val_loss: 0.4704 - val_acc: 0.8463\n"
     ]
    }
   ],
   "source": [
    "# Run this several times until you get good acurracy in validation (wachout of overfitting)\n",
    "train(train_generator, validation_generator, m)"
   ]
  },
  {
   "cell_type": "code",
   "execution_count": 7,
   "metadata": {},
   "outputs": [
    {
     "name": "stdout",
     "output_type": "stream",
     "text": [
      "Epoch 1/1\n",
      "3/3 [==============================] - 490s - loss: 0.4296 - acc: 0.8600 - val_loss: 0.4184 - val_acc: 0.8589\n"
     ]
    }
   ],
   "source": [
    "train(train_generator, validation_generator, m)"
   ]
  },
  {
   "cell_type": "code",
   "execution_count": 8,
   "metadata": {},
   "outputs": [
    {
     "name": "stdout",
     "output_type": "stream",
     "text": [
      "Epoch 1/1\n",
      "3/3 [==============================] - 399s - loss: 0.4583 - acc: 0.9064 - val_loss: 0.3271 - val_acc: 0.8841\n"
     ]
    }
   ],
   "source": [
    "train(train_generator, validation_generator, m)"
   ]
  },
  {
   "cell_type": "code",
   "execution_count": 9,
   "metadata": {},
   "outputs": [
    {
     "name": "stdout",
     "output_type": "stream",
     "text": [
      "Epoch 1/1\n",
      "3/3 [==============================] - 496s - loss: 0.2934 - acc: 0.9133 - val_loss: 0.3055 - val_acc: 0.8967\n"
     ]
    }
   ],
   "source": [
    "train(train_generator, validation_generator, m)"
   ]
  },
  {
   "cell_type": "code",
   "execution_count": 10,
   "metadata": {},
   "outputs": [
    {
     "name": "stdout",
     "output_type": "stream",
     "text": [
      "Epoch 1/1\n",
      "3/3 [==============================] - 414s - loss: 0.6041 - acc: 0.7714 - val_loss: 0.5842 - val_acc: 0.8539\n"
     ]
    }
   ],
   "source": [
    "train(train_generator, validation_generator, m)"
   ]
  },
  {
   "cell_type": "code",
   "execution_count": 11,
   "metadata": {},
   "outputs": [
    {
     "name": "stdout",
     "output_type": "stream",
     "text": [
      "Epoch 1/1\n",
      "3/3 [==============================] - 517s - loss: 0.2822 - acc: 0.9033 - val_loss: 0.3129 - val_acc: 0.9118\n"
     ]
    }
   ],
   "source": [
    "train(train_generator, validation_generator, m)"
   ]
  },
  {
   "cell_type": "code",
   "execution_count": 12,
   "metadata": {},
   "outputs": [
    {
     "name": "stdout",
     "output_type": "stream",
     "text": [
      "Epoch 1/1\n",
      "3/3 [==============================] - 432s - loss: 0.4567 - acc: 0.8089 - val_loss: 0.4450 - val_acc: 0.8640\n"
     ]
    }
   ],
   "source": [
    "train(train_generator, validation_generator, m)"
   ]
  },
  {
   "cell_type": "code",
   "execution_count": 13,
   "metadata": {},
   "outputs": [
    {
     "name": "stdout",
     "output_type": "stream",
     "text": [
      "Epoch 1/1\n",
      "3/3 [==============================] - 501s - loss: 0.2308 - acc: 0.9367 - val_loss: 0.2950 - val_acc: 0.9043\n"
     ]
    }
   ],
   "source": [
    "train(train_generator, validation_generator, m)"
   ]
  },
  {
   "cell_type": "code",
   "execution_count": 14,
   "metadata": {},
   "outputs": [
    {
     "name": "stdout",
     "output_type": "stream",
     "text": [
      "Epoch 1/1\n",
      "3/3 [==============================] - 526s - loss: 0.1817 - acc: 0.9450 - val_loss: 0.2853 - val_acc: 0.9118\n"
     ]
    }
   ],
   "source": [
    "train(train_generator, validation_generator, m)"
   ]
  },
  {
   "cell_type": "code",
   "execution_count": null,
   "metadata": {},
   "outputs": [],
   "source": [
    "# execute this when you want to save the model\n",
    "# m.save('wiiii-finished')\n",
    "\n",
    "# execute this when you want to load the model\n",
    "# from keras.models import load_model\n",
    "# m_i_am_back = load_model('wiiii-finished')"
   ]
  }
 ],
 "metadata": {
  "kernelspec": {
   "display_name": "Python 3",
   "language": "python",
   "name": "python3"
  },
  "language_info": {
   "codemirror_mode": {
    "name": "ipython",
    "version": 3
   },
   "file_extension": ".py",
   "mimetype": "text/x-python",
   "name": "python",
   "nbconvert_exporter": "python",
   "pygments_lexer": "ipython3",
   "version": "3.6.3"
  }
 },
 "nbformat": 4,
 "nbformat_minor": 2
}
